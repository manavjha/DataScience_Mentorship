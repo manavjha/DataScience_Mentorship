{
  "nbformat": 4,
  "nbformat_minor": 0,
  "metadata": {
    "colab": {
      "name": "Assignment_1_Python.ipynb",
      "provenance": [],
      "toc_visible": true,
      "include_colab_link": true
    },
    "kernelspec": {
      "name": "python3",
      "display_name": "Python 3"
    },
    "language_info": {
      "name": "python"
    }
  },
  "cells": [
    {
      "cell_type": "markdown",
      "metadata": {
        "id": "view-in-github",
        "colab_type": "text"
      },
      "source": [
        "<a href=\"https://colab.research.google.com/github/manavjha/DataScience_Mentorship/blob/main/Assignment_1_Python.ipynb\" target=\"_parent\"><img src=\"https://colab.research.google.com/assets/colab-badge.svg\" alt=\"Open In Colab\"/></a>"
      ]
    },
    {
      "cell_type": "markdown",
      "source": [
        "1. What is a List?\n",
        "2. What is a Tuple?\n",
        "3. What is the difference between List and Tuple?\n",
        "4. Python Program to find the largest element in the list\n",
        "5. Python program to interchange first and last elements in a list.\n",
        "6. Python program to swap two elements in a list\n",
        "7. Python program to Reverse a List\n",
        "8. Python program to count occurrences of an element in a list\n",
        "9. Python program to find the sum of elements in a list\n",
        "10. Python program to Multiply all numbers in the list\n",
        "11. What are the ways to find the length of a list\n",
        "Ans: len\n",
        "12. Python program to find the smallest and largest number in a list (Without\n",
        "min-max function) - Duplicate\n",
        "13. Python Program to find the area of a circle\n",
        "Ans: def AreCircle(r):\n",
        "      return math.pi*r*r\n",
        "14. Take inputs from the user to make a list. Again take one input from the user and search it in the list and delete that element, if found. Iterate over a list using for loop.\n",
        "15. You are given a list of integer elements. Make a new list that will store a square of elements of the previous list. (With and without list comprehension)\n",
        "\n",
        "i.\n",
        "Input_list = [2,5,6,12]\n",
        "\n",
        "ii. Output_list = [4,25,36,144]"
      ],
      "metadata": {
        "id": "pqRwhVrfUkYk"
      }
    },
    {
      "cell_type": "code",
      "source": [
        "Input_list = [2,5,6,12]\n",
        "def modifyList(input):\n",
        "  for i in input:\n",
        "    i = i*i\n",
        "    print(i)\n",
        "    return input\n",
        "print(modifyList(Input_list))"
      ],
      "metadata": {
        "id": "KqSuC7OnU8Qt",
        "outputId": "9acb6203-68a6-48a3-dd0c-658417a1795a",
        "colab": {
          "base_uri": "https://localhost:8080/"
        }
      },
      "execution_count": 7,
      "outputs": [
        {
          "output_type": "stream",
          "name": "stdout",
          "text": [
            "4\n",
            "[2, 5, 6, 12]\n"
          ]
        }
      ]
    },
    {
      "cell_type": "code",
      "source": [],
      "metadata": {
        "id": "yBtA6PaGKet6"
      },
      "execution_count": null,
      "outputs": []
    },
    {
      "cell_type": "markdown",
      "source": [
        "#Python Program to find the largest element in the list\n",
        "### We can use solve this problem in the following ways in Python:\n",
        "\n",
        "####Using a for-in loop\n",
        "###Using max()\n",
        "###Using sort()\n"
      ],
      "metadata": {
        "id": "2U-pveFCKkmG"
      }
    },
    {
      "cell_type": "code",
      "source": [
        "Input_list = [2,5,6,12]\n",
        "\n",
        "max=Input_list[0]\n",
        "for i in Input_list:\n",
        "  if i > max:\n",
        "    max = i\n",
        "print(max)\n",
        "\n",
        "# Using sort\n",
        "b = [2,5,6,12]\n",
        "b.sort()\n",
        "print(\"max num:\", b[-1])\n",
        "\n",
        "# Using max\n",
        "#initialize list\n",
        "lst = [20, 49, 1, 99]\n",
        "\n",
        "#returns largest element\n",
        "#largest = max(lst)\n",
        "\n",
        "#print largest in the list\n",
        "#print(largest)\n",
        "\n",
        "# Python Program to find the area of a circle\n",
        "import math\n",
        "def AreaCircle(radius):\n",
        "  return math.pi*radius*radius\n",
        "print(AreaCircle(5))\n",
        "\n"
      ],
      "metadata": {
        "id": "NwHltdCDKpoc",
        "outputId": "252df07e-e788-4c9c-b8b0-ba9cf644468b",
        "colab": {
          "base_uri": "https://localhost:8080/"
        }
      },
      "execution_count": 34,
      "outputs": [
        {
          "output_type": "stream",
          "name": "stdout",
          "text": [
            "12\n",
            "max num: 12\n",
            "78.53981633974483\n"
          ]
        }
      ]
    },
    {
      "cell_type": "code",
      "source": [
        "# Python program to Reverse a List\n",
        "list1 = [2,5,6,12]\n",
        "print(list1.reverse())"
      ],
      "metadata": {
        "id": "e_g0p0xlUaVM",
        "outputId": "d2a4996a-8a3f-4bc2-8be5-fe342a2446d1",
        "colab": {
          "base_uri": "https://localhost:8080/"
        }
      },
      "execution_count": 36,
      "outputs": [
        {
          "output_type": "stream",
          "name": "stdout",
          "text": [
            "None\n"
          ]
        }
      ]
    }
  ]
}