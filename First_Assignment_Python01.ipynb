{
  "cells": [
    {
      "cell_type": "markdown",
      "metadata": {
        "id": "view-in-github",
        "colab_type": "text"
      },
      "source": [
        "<a href=\"https://colab.research.google.com/github/manavjha/DataScience_Mentorship/blob/main/First_Assignment_Python01.ipynb\" target=\"_parent\"><img src=\"https://colab.research.google.com/assets/colab-badge.svg\" alt=\"Open In Colab\"/></a>"
      ]
    },
    {
      "cell_type": "markdown",
      "source": [
        "#Solution 1"
      ],
      "metadata": {
        "id": "d7WuGezt8pjF"
      }
    },
    {
      "cell_type": "code",
      "source": [
        "wins,losses,draws = 4,3,1\n",
        "\n",
        "# Apply BODMAS rule to calculate the result\n",
        "\n",
        "aravali_points = (wins*3)+(losses*0)+(draws*1)\n",
        "print(\"aravali_points: \",aravali_points)"
      ],
      "metadata": {
        "id": "G0yUldm_808j",
        "outputId": "b0fb41b3-4dd3-44c9-9b5a-cac971382a0d",
        "colab": {
          "base_uri": "https://localhost:8080/"
        }
      },
      "execution_count": 2,
      "outputs": [
        {
          "output_type": "stream",
          "name": "stdout",
          "text": [
            "aravali_points:  13\n"
          ]
        }
      ]
    },
    {
      "cell_type": "markdown",
      "source": [
        "#Solution 2"
      ],
      "metadata": {
        "id": "r-XJ8phn9-Kj"
      }
    },
    {
      "cell_type": "code",
      "source": [
        "from os import F_TLOCK\n",
        "import math\n",
        "\n",
        "def Func_evaluated(inpt):\n",
        "    return int(math.pow(inpt,2))+3*inpt-4\n",
        "\n",
        "\n",
        "val_to_be_evaluated = int(input(\"Enter First Value : \"))\n",
        "\n",
        "# =====Calculate the value of the function f(x) at x = 2 ======\n",
        "print(f\"func_evaluated_at_{val_to_be_evaluated} :\",Func_evaluated(val_to_be_evaluated ))\n",
        "print(\"\\n\")\n",
        "\n",
        "func_evaluated_at_2 = int(Func_evaluated(val_to_be_evaluated ))\n",
        "\n",
        "val_to_be_evaluated = int(input(\"Enter Second Value: \"))\n",
        "sqrt_Of_2 = math.sqrt(func_evaluated_at_2)\n",
        "\n",
        "# =====Calculate the value of the function f(x) at x = -1 ======\n",
        "print(f\"func_evaluated_at_{val_to_be_evaluated} :\",Func_evaluated(val_to_be_evaluated ))\n",
        "print(\"\\n\")\n",
        "func_evaluated_at_1 = int(Func_evaluated(val_to_be_evaluated ))\n",
        "sqrt_Of_1 = math.sqrt(func_evaluated_at_1)\n",
        "\n",
        "# =====Calculate the value of the function f(x) at x = 1 =======\n",
        "val_to_be_evaluated = int(input(\"Enter Third value: \"))\n",
        "print(f\"func_evaluated_at_{val_to_be_evaluated} :\",Func_evaluated(val_to_be_evaluated ))\n",
        "func_evaluated_at__1 = int(Func_evaluated(val_to_be_evaluated ))\n",
        "sqrt_Of__1 = math.sqrt(func_evaluated_at__1)\n",
        "\n",
        "#Return the boolean for each value\n",
        "\n",
        "print(\"\\n\")\n",
        "print(\"func_evaluated_at_2 =\",bool(1 if sqrt_Of_2 == 2 else 0))\n",
        "print(\"\\n\")\n",
        "print(\"func_evaluated_at_-1 =\",bool(1 if sqrt_Of_1 == -1 else 0))\n",
        "print(\"\\n\")\n",
        "print(\"func_evaluated_at_1 =\",bool(1 if sqrt_Of__1 == 1 else 0))"
      ],
      "metadata": {
        "id": "xcXwmTWd-EGp",
        "outputId": "6d676db1-aca7-4728-8fac-1902d3dcb5e7",
        "colab": {
          "base_uri": "https://localhost:8080/"
        }
      },
      "execution_count": 14,
      "outputs": [
        {
          "output_type": "stream",
          "name": "stdout",
          "text": [
            "Enter First Value : 2\n",
            "func_evaluated_at_2 : 6\n",
            "\n",
            "\n",
            "Enter Second Value: 3\n",
            "func_evaluated_at_3 : 14\n",
            "\n",
            "\n",
            "Enter Third value: 4\n",
            "func_evaluated_at_4 : 24\n",
            "\n",
            "\n",
            "func_evaluated_at_2 = False\n",
            "\n",
            "\n",
            "func_evaluated_at_-1 = False\n",
            "\n",
            "\n",
            "func_evaluated_at_1 = False\n"
          ]
        }
      ]
    },
    {
      "cell_type": "markdown",
      "source": [
        "#Solution 3"
      ],
      "metadata": {
        "id": "dvSXJaf6Er1D"
      }
    },
    {
      "cell_type": "code",
      "source": [
        "apple,oranges,banana = 45,65,30\n",
        "\n",
        "\n",
        "tot_food_items = apple+oranges+banana\n",
        "\n",
        "def Cal_Pernt(i):\n",
        "  return (i/tot_food_items)*100\n",
        "\n",
        "print(\"Percentage of apple : \",\"{:.2f}\".format(float(Cal_Pernt(apple))))\n",
        "print(\"Percentage of oranges : \",\"{:.2f}\".format(float(Cal_Pernt(oranges))))\n",
        "print(\"Percentage of banana : \",\"{:.2f}\".format(float(Cal_Pernt(banana))))"
      ],
      "metadata": {
        "id": "avGJN2hwEwDq",
        "outputId": "25383fec-2299-4aac-f0ca-ea1601b2d89e",
        "colab": {
          "base_uri": "https://localhost:8080/"
        }
      },
      "execution_count": 22,
      "outputs": [
        {
          "output_type": "stream",
          "name": "stdout",
          "text": [
            "Percentage of apple :  32.14\n",
            "Percentage of oranges :  46.43\n",
            "Percentage of banana :  21.43\n"
          ]
        }
      ]
    },
    {
      "cell_type": "markdown",
      "source": [
        "#Solution 4"
      ],
      "metadata": {
        "id": "fwEA_ilFNHJv"
      }
    },
    {
      "cell_type": "code",
      "source": [
        "math_major,eco_major,phy_major,math_guessed,eco_guessed,phy_guessed = 30,45,25,20,30,20\n",
        "\n",
        "math_accuracy = float((math_guessed/math_major)*100)\n",
        "eco_accuracy = float((eco_guessed/eco_major)*100)\n",
        "phy_accuracy = float((phy_guessed/phy_major)*100)\n",
        "\n",
        "# Print the Maths accuracy\n",
        "print(\"# Print the Maths accuracy : \",\"{:.2f}\".format(math_accuracy))\n",
        "\n",
        "# Print the Economics accuracy\n",
        "print(\"# Print the eco accuracy : \",\"{:.2f}\".format(eco_accuracy))\n",
        "\n",
        "# Print the Physics accuracy\n",
        "print(\"# Print the phy accuracy : \",\"{:.2f}\".format(phy_accuracy))\n",
        "\n",
        "# Print the overall accuracy\n",
        "print(\"# Print the overall accuracy =\",\"{:.2f}\".format(float(((math_accuracy+eco_accuracy+phy_accuracy)/3))))"
      ],
      "metadata": {
        "id": "yxX5CaCkNKxD",
        "outputId": "b34cb0a2-b71b-4ad9-d644-e147baa3d62e",
        "colab": {
          "base_uri": "https://localhost:8080/"
        }
      },
      "execution_count": 24,
      "outputs": [
        {
          "output_type": "stream",
          "name": "stdout",
          "text": [
            "# Print the Maths accuracy :  66.67\n",
            "# Print the eco accuracy :  66.67\n",
            "# Print the phy accuracy :  80.00\n",
            "# Print the overall accuracy = 71.11\n"
          ]
        }
      ]
    }
  ],
  "metadata": {
    "colab": {
      "name": "Welcome To Colaboratory",
      "toc_visible": true,
      "provenance": [],
      "include_colab_link": true
    },
    "kernelspec": {
      "display_name": "Python 3",
      "name": "python3"
    }
  },
  "nbformat": 4,
  "nbformat_minor": 0
}